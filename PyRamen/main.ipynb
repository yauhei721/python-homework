{
 "cells": [
  {
   "cell_type": "code",
   "execution_count": 84,
   "id": "a823ad1d-7390-4142-9562-4a7985bf8fec",
   "metadata": {},
   "outputs": [],
   "source": [
    "\"\"\"PyRamen Homework Starter.\"\"\"\n",
    "\n",
    "# @TODO: Import libraries\n",
    "import csv\n",
    "from pathlib import Path"
   ]
  },
  {
   "cell_type": "code",
   "execution_count": 85,
   "id": "af6c80cd-ef60-4208-a256-d84c97129235",
   "metadata": {},
   "outputs": [],
   "source": [
    "# @TODO: Set file paths for menu_data.csv and sales_data.csv\n",
    "menu_filepath = Path('menu_data.csv')\n",
    "sales_filepath = Path('sales_data.csv')\n",
    "\n",
    "# @TODO: Initialize list objects to hold our menu and sales data\n",
    "menu = []\n",
    "sales = []"
   ]
  },
  {
   "cell_type": "code",
   "execution_count": 86,
   "id": "41b1033e-7d39-477b-a66a-ff0136ba8909",
   "metadata": {},
   "outputs": [],
   "source": [
    "# @TODO: Read in the menu data into the menu list\n",
    "with open(menu_filepath, 'r') as csvfile:\n",
    "    csvreader = csv.reader(csvfile, delimiter = ',')\n",
    "    header = next(csvreader) # Read the header\n",
    "    \n",
    "    # Put data into lists\n",
    "    for row in csvreader:\n",
    "        menu.append(row)\n",
    "        \n",
    "# @TODO: Read in the sales data into the sales list\n",
    "with open(sales_filepath, 'r') as csvfile:\n",
    "    csvreader = csv.reader(csvfile, delimiter = ',')\n",
    "    header = next(csvreader) # Read the header\n",
    "    \n",
    "    # Put data into lists\n",
    "    for row in csvreader:\n",
    "        sales.append(row)\n"
   ]
  },
  {
   "cell_type": "code",
   "execution_count": 87,
   "id": "1f03f5a1-7845-4f94-bc34-7c935fb76f73",
   "metadata": {},
   "outputs": [],
   "source": [
    "# @TODO: Initialize dict object to hold our key-value pairs of items and metrics\n",
    "report = {}\n",
    "\n",
    "# Initialize a row counter variable\n",
    "row_count = 0\n",
    "\n",
    "# @TODO: Loop over every row in the sales list object\n",
    "for sitem in sales:\n",
    "    #For each row of the sales data, set the following columns of the sales data to their own variables\n",
    "    sales_item = sitem[4]\n",
    "    quantity = int(sitem[3])\n",
    "    if (sales_item in report) == False:\n",
    "        # If the item value not in the report, add it as a new entry with initialized metrics\n",
    "        report[sales_item] = {\n",
    "            \"01-count\": 0,\n",
    "            \"02-revenue\": 0,\n",
    "            \"03-cogs\": 0,\n",
    "            \"04-profit\": 0,\n",
    "            }\n",
    "    \n",
    "    #Create a nested loop by looping through every record in menu.\n",
    "    for mitem in menu:\n",
    "        # Item,Category,Description,Price,Cost\n",
    "        item = mitem[0]\n",
    "        price = float(mitem[3])\n",
    "        cost = float(mitem[4])\n",
    "        if sales_item == item:\n",
    "            report[sales_item][\"01-count\"] += quantity\n",
    "            report[sales_item][\"02-revenue\"] += price * quantity\n",
    "            report[sales_item][\"03-cogs\"] += cost * quantity\n",
    "            report[sales_item][\"04-profit\"] += profit * quantity \n"
   ]
  },
  {
   "cell_type": "code",
   "execution_count": 88,
   "id": "82ddf2bd-d819-4ef8-8979-200da7d63830",
   "metadata": {},
   "outputs": [],
   "source": [
    "# Write out the contents of the report dictionary to a text file. \n",
    "# Store the result in String\n",
    "#keys = report.keys()\n",
    "output_str = ''\n",
    "i = 0\n",
    "for result in report.keys():\n",
    "    output_str += f'{result} {report[result]}\\n'\n",
    "    i=i+1\n",
    "    \n",
    "# Print the result in terminal\n",
    "#print(output_str)\n"
   ]
  },
  {
   "cell_type": "code",
   "execution_count": 89,
   "id": "ac968291-7430-4c93-8c26-67c649cdc638",
   "metadata": {},
   "outputs": [],
   "source": [
    "# Set the output file path\n",
    "output_path = Path(\"output.txt\")\n",
    "\n",
    "# Open the output_path as a file object in \"write\" mode ('w')\n",
    "# Write a header line and write the contents of 'output_str' to the file\n",
    "with open(output_path, 'w') as file:\n",
    "    file.write(output_str)"
   ]
  },
  {
   "cell_type": "code",
   "execution_count": null,
   "id": "deed486e-0e94-4d94-a6eb-d6a82a48c43c",
   "metadata": {},
   "outputs": [],
   "source": []
  }
 ],
 "metadata": {
  "kernelspec": {
   "display_name": "Python 3",
   "language": "python",
   "name": "python3"
  },
  "language_info": {
   "codemirror_mode": {
    "name": "ipython",
    "version": 3
   },
   "file_extension": ".py",
   "mimetype": "text/x-python",
   "name": "python",
   "nbconvert_exporter": "python",
   "pygments_lexer": "ipython3",
   "version": "3.8.8"
  }
 },
 "nbformat": 4,
 "nbformat_minor": 5
}
