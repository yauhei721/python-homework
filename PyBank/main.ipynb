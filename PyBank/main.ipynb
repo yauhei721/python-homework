{
 "cells": [
  {
   "cell_type": "code",
   "execution_count": 3,
   "id": "b77e7996-5c63-43b0-95a1-78e985435bd8",
   "metadata": {},
   "outputs": [
    {
     "data": {
      "text/plain": [
       "'\\nIn this activity, you are tasked with creating a Python script for analyzing the financial records of your company. You will be provided with a financial dataset in this file: budget_data.csv. This dataset is composed of two columns, Date and Profit/Losses. (Thankfully, your company has rather lax standards for accounting, so the records are simple.)\\nYour task is to create a Python script that analyzes the records to calculate each of the following:\\n\\n1. The total number of months included in the dataset.\\n\\n2. The net total amount of Profit/Losses over the entire period.\\n\\n3. The average of the changes in Profit/Losses over the entire period.\\n\\n4. The greatest increase in profits (date and amount) over the entire period.\\n\\n5. The greatest decrease in losses (date and amount) over the entire period.\\n\\n'"
      ]
     },
     "execution_count": 3,
     "metadata": {},
     "output_type": "execute_result"
    }
   ],
   "source": [
    "\"\"\"\n",
    "In this activity, you are tasked with creating a Python script for analyzing the financial records of your company. You will be provided with a financial dataset in this file: budget_data.csv. This dataset is composed of two columns, Date and Profit/Losses. (Thankfully, your company has rather lax standards for accounting, so the records are simple.)\n",
    "Your task is to create a Python script that analyzes the records to calculate each of the following:\n",
    "\n",
    "1. The total number of months included in the dataset.\n",
    "\n",
    "2. The net total amount of Profit/Losses over the entire period.\n",
    "\n",
    "3. The average of the changes in Profit/Losses over the entire period.\n",
    "\n",
    "4. The greatest increase in profits (date and amount) over the entire period.\n",
    "\n",
    "5. The greatest decrease in losses (date and amount) over the entire period.\n",
    "\n",
    "\"\"\"\n"
   ]
  },
  {
   "cell_type": "code",
   "execution_count": 71,
   "id": "cd77e93c-282d-4551-b6ba-1379b739178b",
   "metadata": {},
   "outputs": [],
   "source": [
    "# Import the IO libraries\n",
    "from pathlib import Path\n",
    "import csv\n",
    "\n",
    "# Intialize variables\n",
    "num_months = 0       # number of months\n",
    "profit = []          # profits each month\n",
    "months = []          # the months\n",
    "profit_deltas = []   # changes of profit each month\n",
    "net_PL = 0           # net profit\n",
    "avg_delta_profit = 0 # average change in profit\n",
    "max_inc_profit = 0   # max increase in profit\n",
    "max_pro_inc_mo = ''  # max profit increase month\n",
    "max_dec_profit = 0   # max decrease in profit\n",
    "max_pro_dec_mo = ''  # max profit decrease month\n",
    "output_str = 'Financial Analysis\\n----------------------------\\n'      # String of result"
   ]
  },
  {
   "cell_type": "code",
   "execution_count": 72,
   "id": "be586aa8-4261-45be-b70c-650b3524eff5",
   "metadata": {},
   "outputs": [],
   "source": [
    "# Read the csv file\n",
    "\n",
    "csvpath = 'budget_data.csv'\n",
    "with open(csvpath, 'r') as csvfile:\n",
    "    csvreader = csv.reader(csvfile, delimiter = ',')\n",
    "    header = next(csvreader) # Read the header\n",
    "    \n",
    "    # Put data into lists\n",
    "    for row in csvreader:\n",
    "        months.append(row[0])\n",
    "        profit.append(float(row[1]))\n",
    "\n"
   ]
  },
  {
   "cell_type": "code",
   "execution_count": 73,
   "id": "aac107b3-1797-4c25-b904-b0e448f94c09",
   "metadata": {},
   "outputs": [],
   "source": [
    "# Calculate the number of months\n",
    "num_months = len(months)\n",
    "\n",
    "# Calculate net P & L\n",
    "net_PL = sum(profit)\n",
    "# Calculate average change in P & L\n",
    "for i in range(1, len(profit)):\n",
    "    profit_deltas.append(profit[i] - profit[i-1])\n",
    "\n",
    "avg_delta_profit = sum(profit_deltas)/len(profit_deltas) # Average Change in profit\n",
    "\n",
    "max_inc_profit = max(profit_deltas)                      # max increase in profit\n",
    "# Max increas profit month\n",
    "max_pro_inc_mo = months[profit_deltas.index(max_inc_profit)+1]\n",
    "\n",
    "max_dec_profit = min(profit_deltas)                      # max decrease in profit\n",
    "# max decrese profit month\n",
    "max_pro_dec_mo = months[profit_deltas.index(max_dec_profit)+1]"
   ]
  },
  {
   "cell_type": "code",
   "execution_count": 74,
   "id": "102a1010-2d47-4684-863a-c2953893d719",
   "metadata": {},
   "outputs": [],
   "source": [
    "# Write out results\n",
    "#print('Financial Analysis')\n",
    "#print('----------------------------')\n",
    "#print(f'Total Months: {num_months}')\n",
    "#print(f'Total: {net_PL}')\n",
    "#print(f'Average Change: {round(avg_delta_profit,2)}')\n",
    "#print(f'Greatest Increase in Profits: {max_pro_inc_mo} (${\"{0:.2f}\".format(max_inc_profit)})')\n",
    "#print(f'Greatest Decrease in Profits: {max_pro_dec_mo} (${\"{0:.2f}\".format(max_dec_profit)})')"
   ]
  },
  {
   "cell_type": "code",
   "execution_count": 75,
   "id": "85e1d661-a816-4223-9b33-6681e1a4e3b6",
   "metadata": {},
   "outputs": [
    {
     "name": "stdout",
     "output_type": "stream",
     "text": [
      "Financial Analysis\n",
      "----------------------------\n",
      "Total Months: 86\n",
      "Total: 38382578.0\n",
      "Average Change: -2315.12\n",
      "Greatest Increase in Profits: Feb-2012 ($1926159.00)\n",
      "Greatest Decrease in Profits: Sep-2013 ($-2196167.00)\n"
     ]
    }
   ],
   "source": [
    "# Store the result in String\n",
    "output_str += f'Total Months: {num_months}\\n'\n",
    "output_str += f'Total: {net_PL}\\n'\n",
    "output_str += f'Average Change: {round(avg_delta_profit,2)}\\n'\n",
    "output_str += f'Greatest Increase in Profits: {max_pro_inc_mo} (${\"{0:.2f}\".format(max_inc_profit)})\\n'\n",
    "output_str += f'Greatest Decrease in Profits: {max_pro_dec_mo} (${\"{0:.2f}\".format(max_dec_profit)})'\n",
    "\n",
    "# Print the result in terminal\n",
    "print(output_str)"
   ]
  },
  {
   "cell_type": "code",
   "execution_count": 77,
   "id": "1fcf44bd-4faa-4eed-b46d-a6e95870743e",
   "metadata": {},
   "outputs": [],
   "source": [
    "# Set the output file path\n",
    "output_path = Path(\"output.txt\")\n",
    "\n",
    "# Open the output_path as a file object in \"write\" mode ('w')\n",
    "# Write a header line and write the contents of 'output_str' to the file\n",
    "with open(output_path, 'w') as file:\n",
    "    file.write(output_str)\n"
   ]
  },
  {
   "cell_type": "code",
   "execution_count": null,
   "id": "b2e75ecb-98a1-479a-bbcc-3b1933b43ad8",
   "metadata": {},
   "outputs": [],
   "source": []
  }
 ],
 "metadata": {
  "kernelspec": {
   "display_name": "Python 3",
   "language": "python",
   "name": "python3"
  },
  "language_info": {
   "codemirror_mode": {
    "name": "ipython",
    "version": 3
   },
   "file_extension": ".py",
   "mimetype": "text/x-python",
   "name": "python",
   "nbconvert_exporter": "python",
   "pygments_lexer": "ipython3",
   "version": "3.8.8"
  }
 },
 "nbformat": 4,
 "nbformat_minor": 5
}
