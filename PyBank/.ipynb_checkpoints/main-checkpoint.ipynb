{
 "cells": [
  {
   "cell_type": "code",
   "execution_count": 3,
   "id": "b77e7996-5c63-43b0-95a1-78e985435bd8",
   "metadata": {},
   "outputs": [
    {
     "data": {
      "text/plain": [
       "'\\nIn this activity, you are tasked with creating a Python script for analyzing the financial records of your company. You will be provided with a financial dataset in this file: budget_data.csv. This dataset is composed of two columns, Date and Profit/Losses. (Thankfully, your company has rather lax standards for accounting, so the records are simple.)\\nYour task is to create a Python script that analyzes the records to calculate each of the following:\\n\\n1. The total number of months included in the dataset.\\n\\n2. The net total amount of Profit/Losses over the entire period.\\n\\n3. The average of the changes in Profit/Losses over the entire period.\\n\\n4. The greatest increase in profits (date and amount) over the entire period.\\n\\n5. The greatest decrease in losses (date and amount) over the entire period.\\n\\n'"
      ]
     },
     "execution_count": 3,
     "metadata": {},
     "output_type": "execute_result"
    }
   ],
   "source": [
    "\"\"\"\n",
    "In this activity, you are tasked with creating a Python script for analyzing the financial records of your company. You will be provided with a financial dataset in this file: budget_data.csv. This dataset is composed of two columns, Date and Profit/Losses. (Thankfully, your company has rather lax standards for accounting, so the records are simple.)\n",
    "Your task is to create a Python script that analyzes the records to calculate each of the following:\n",
    "\n",
    "1. The total number of months included in the dataset.\n",
    "\n",
    "2. The net total amount of Profit/Losses over the entire period.\n",
    "\n",
    "3. The average of the changes in Profit/Losses over the entire period.\n",
    "\n",
    "4. The greatest increase in profits (date and amount) over the entire period.\n",
    "\n",
    "5. The greatest decrease in losses (date and amount) over the entire period.\n",
    "\n",
    "\"\"\"\n"
   ]
  },
  {
   "cell_type": "code",
   "execution_count": 27,
   "id": "cd77e93c-282d-4551-b6ba-1379b739178b",
   "metadata": {},
   "outputs": [],
   "source": [
    "# Import the IO libraries\n",
    "from pathlib import Path\n",
    "import csv\n",
    "\n",
    "# Intialize variables\n",
    "num_months = 0       # number of months\n",
    "profit = []          # profits each month\n",
    "months = []          # the months\n",
    "profit_deltas = []   # changes of profit each month\n",
    "net_PL = 0           # net profit\n",
    "avg_delta_profit = 0 # average change in profit\n",
    "max_inc_profit = 0   # max increase in profit\n",
    "max_dec_profit = 0   # max decrease in profit"
   ]
  },
  {
   "cell_type": "code",
   "execution_count": 28,
   "id": "be586aa8-4261-45be-b70c-650b3524eff5",
   "metadata": {},
   "outputs": [],
   "source": [
    "# Read the csv file\n",
    "\n",
    "csvpath = 'budget_data.csv'\n",
    "with open(csvpath, 'r') as csvfile:\n",
    "    csvreader = csv.reader(csvfile, delimiter = ',')\n",
    "    header = next(csvreader) # Read the header\n",
    "    \n",
    "    # Put data into lists\n",
    "    for row in csvreader:\n",
    "        months.append(row[0])\n",
    "        profit.append(float(row[1]))\n",
    "\n"
   ]
  },
  {
   "cell_type": "code",
   "execution_count": 32,
   "id": "aac107b3-1797-4c25-b904-b0e448f94c09",
   "metadata": {},
   "outputs": [],
   "source": [
    "# Calculate the number of months\n",
    "num_months = len(months)\n",
    "\n",
    "# Calculate net P & L\n",
    "net_PL = sum(profit)\n",
    "# Calculate average change in P & L\n",
    "for i in range(1, len(profit)):\n",
    "    profit_deltas.append(profit[i] - profit[i-1])\n",
    "\n",
    "avg_delta_profit = sum(profit_deltas)/len(profit_deltas)"
   ]
  },
  {
   "cell_type": "code",
   "execution_count": 35,
   "id": "102a1010-2d47-4684-863a-c2953893d719",
   "metadata": {},
   "outputs": [
    {
     "name": "stdout",
     "output_type": "stream",
     "text": [
      "Financial Analysis\n",
      "----------------------------\n",
      "Total Months: 86\n",
      "Total: 38382578.0\n",
      "Average Change: -2315.12\n"
     ]
    }
   ],
   "source": [
    "# Print out results\n",
    "print('Financial Analysis')\n",
    "print('----------------------------')\n",
    "print(f'Total Months: {num_months}')\n",
    "print(f'Total: {net_PL}')\n",
    "print(f'Average Change: {round(avg_delta_profit,2)}')"
   ]
  },
  {
   "cell_type": "code",
   "execution_count": null,
   "id": "85e1d661-a816-4223-9b33-6681e1a4e3b6",
   "metadata": {},
   "outputs": [],
   "source": []
  }
 ],
 "metadata": {
  "kernelspec": {
   "display_name": "Python 3",
   "language": "python",
   "name": "python3"
  },
  "language_info": {
   "codemirror_mode": {
    "name": "ipython",
    "version": 3
   },
   "file_extension": ".py",
   "mimetype": "text/x-python",
   "name": "python",
   "nbconvert_exporter": "python",
   "pygments_lexer": "ipython3",
   "version": "3.8.8"
  }
 },
 "nbformat": 4,
 "nbformat_minor": 5
}
